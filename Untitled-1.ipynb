{
 "cells": [
  {
   "cell_type": "code",
   "execution_count": 4,
   "metadata": {},
   "outputs": [],
   "source": [
    "import numpy as np\n",
    "\n",
    "sd1, sd2, sd3 = 0.1, 0.15, 0.12\n",
    "corr12, corr13, corr23 = 0.5, 0.7, 0.6\n",
    "w1, w2, w3 = 0.2, 0.3, 0.5\n",
    "\n",
    "S = np.diag([sd1, sd2, sd3])\n",
    "R = np.identity(3)\n",
    "R[0, 1] = R[1, 0] = corr12\n",
    "R[0, 2] = R[2, 0] = corr13\n",
    "R[1, 2] = R[2, 1] = corr23\n",
    "C = S @ R @ S\n",
    "w = np.array([w1, w2, w3])\n",
    "portvar = w @ C @ w"
   ]
  },
  {
   "cell_type": "code",
   "execution_count": 5,
   "metadata": {},
   "outputs": [
    {
     "data": {
      "text/plain": [
       "0.10883473710171766"
      ]
     },
     "execution_count": 5,
     "metadata": {},
     "output_type": "execute_result"
    }
   ],
   "source": [
    "np.sqrt(portvar)"
   ]
  }
 ],
 "metadata": {
  "kernelspec": {
   "display_name": "Python 3.10.3 64-bit",
   "language": "python",
   "name": "python3"
  },
  "language_info": {
   "codemirror_mode": {
    "name": "ipython",
    "version": 3
   },
   "file_extension": ".py",
   "mimetype": "text/x-python",
   "name": "python",
   "nbconvert_exporter": "python",
   "pygments_lexer": "ipython3",
   "version": "3.10.3"
  },
  "orig_nbformat": 4,
  "vscode": {
   "interpreter": {
    "hash": "a98f34b6005ae2330f135078450db511ef8910ecc790235ef0560aa88aa6ce12"
   }
  }
 },
 "nbformat": 4,
 "nbformat_minor": 2
}
