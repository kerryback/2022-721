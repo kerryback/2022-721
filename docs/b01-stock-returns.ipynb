{
  "cells": [
    {
      "cell_type": "raw",
      "metadata": {},
      "source": [
        "---\n",
        "title:  \"BUSI 721:<br>Data Driven Finance I\"\n",
        "author: <br>Kerry Back<br><br>BUSI 520, Fall 2022<br>JGSB, Rice University\n",
        "output-dir: docs\n",
        "execute:\n",
        "  echo: false\n",
        "  jupyter: python3\n",
        "format: \n",
        "  revealjs:\n",
        "    highlight-style: monokai\n",
        "    code-fold: true\n",
        "    slide-number: true\n",
        "    preview-links: true\n",
        "    self-contained: true\n",
        "    transition: fade\n",
        "    theme: [solarized, 721.scss]\n",
        "    incremental: true\n",
        "---"
      ],
      "id": "dadaaa16"
    },
    {
      "cell_type": "markdown",
      "metadata": {},
      "source": [
        "## Daily Returns \n",
        "\n",
        ". . .\n",
        "\n",
        "Let's compute close-to-close daily stock returns.\n",
        "\n",
        ". . .\n",
        "\n",
        "From close one day to close the next.\n",
        "\n",
        ". . .\n",
        "\n",
        "Let P~t~ denote the price at close on day t.\n",
        "\n",
        ". . .\n",
        "\n",
        "If there are no dividends, then the gain on day t is P~t~-P~t-1~."
      ],
      "id": "c951edc5"
    },
    {
      "cell_type": "markdown",
      "metadata": {},
      "source": [
        "#| code-fold: true\n",
        "\n",
        "import plotly.graph_objects as go\n",
        "import numpy as np\n",
        "![Elephant](elephant.png)"
      ],
      "id": "be43f74a"
    }
  ],
  "metadata": {
    "kernelspec": {
      "name": "python3",
      "language": "python",
      "display_name": "Python 3 (ipykernel)"
    }
  },
  "nbformat": 4,
  "nbformat_minor": 5
}