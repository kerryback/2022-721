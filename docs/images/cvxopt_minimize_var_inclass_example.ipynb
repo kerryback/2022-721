{
 "cells": [
  {
   "cell_type": "markdown",
   "id": "f14351ba",
   "metadata": {},
   "source": [
    "## Minimize variance without allowing short sales, no risk-aversion preference\n",
    "\n",
    "<time>November 30, 2022</time>"
   ]
  },
  {
   "cell_type": "code",
   "execution_count": 1,
   "id": "5d0c6926",
   "metadata": {},
   "outputs": [],
   "source": [
    "# imports\n",
    "\n",
    "import numpy as np\n",
    "from cvxopt import matrix\n",
    "from cvxopt.solvers import qp"
   ]
  },
  {
   "cell_type": "markdown",
   "id": "22fb992b",
   "metadata": {},
   "source": [
    "Minimize 1/2 var subject to expected return = target\n",
    "\n",
    "Different borrowing and savings rate\n",
    "\n",
    "no short sales\n",
    "\n",
    "Choose: xs, xb,w1, w2, w3"
   ]
  },
  {
   "cell_type": "code",
   "execution_count": 2,
   "id": "56598007",
   "metadata": {},
   "outputs": [],
   "source": [
    "# given\n",
    "mn1, mn2, mn3 = 0.1, 0.15, 0.12\n",
    "sd1, sd2, sd3 = 0.2, 0.3, 0.4\n",
    "corr12, corr13, corr23 = 0.1, 0.3, 0.5\n",
    "rs = 0.03\n",
    "rb = 0.05\n",
    "target = 0.09\n",
    "\n",
    "# get covariance matrix\n",
    "S = np.diag([sd1, sd2, sd3])\n",
    "R = np.identity(3)\n",
    "R[0,1] = R[1,0] = corr12\n",
    "R[0,2] = R[2,0] = corr13\n",
    "R[1,2] = R[2,1] = corr23\n",
    "C = S @ R @ S"
   ]
  },
  {
   "cell_type": "code",
   "execution_count": 3,
   "id": "8703fbfe",
   "metadata": {},
   "outputs": [],
   "source": [
    "# set up the P, q, G, h, A, b matrices\n",
    "P = np.zeros((5,5))\n",
    "P[2:, 2:] = C  # no risk-aversion because we are just trying to minimze variance, not optimal for target\n",
    "q = np.zeros(5)\n",
    "\n",
    "G = -np.identity(5)\n",
    "# note, if we were allowing short sales, then G = -np.identity(2) as we drop the constraints on w1, w2, w3\n",
    "h = np.zeros(5)\n",
    "# allowing short sales, h = np.zeros(2)\n",
    "\n",
    "A = np.array([[1., -1., 1., 1., 1.], [rs, -rb, mn1, mn2, mn3]])  # subject to expected return == target\n",
    "b = np.array([[1], [target]])"
   ]
  },
  {
   "cell_type": "code",
   "execution_count": 4,
   "id": "3c076b35",
   "metadata": {},
   "outputs": [
    {
     "name": "stdout",
     "output_type": "stream",
     "text": [
      "     pcost       dcost       gap    pres   dres\n",
      " 0:  8.9067e-03 -5.0477e-01  7e+00  3e+00  3e+00\n",
      " 1:  2.1078e-02 -5.8657e-01  8e-01  2e-01  2e-01\n",
      " 2:  2.3818e-02 -7.0595e-03  3e-02  3e-15  1e-16\n",
      " 3:  8.4305e-03  5.1340e-03  3e-03  9e-16  1e-17\n",
      " 4:  7.2910e-03  6.8715e-03  4e-04  2e-16  6e-18\n",
      " 5:  7.0326e-03  6.9988e-03  3e-05  1e-16  7e-18\n",
      " 6:  7.0026e-03  7.0019e-03  7e-07  1e-15  7e-18\n",
      " 7:  7.0020e-03  7.0020e-03  7e-09  2e-16  8e-18\n",
      "Optimal solution found.\n"
     ]
    }
   ],
   "source": [
    "# minimize variance\n",
    "\n",
    "# Convert to cvxopt\n",
    "P = matrix(P, (5,5))\n",
    "q = matrix(q, (5,1))\n",
    "G = matrix(G, (5,5))\n",
    "h = matrix(h, (5,1))\n",
    "A = matrix(A, (2,5))\n",
    "b = matrix(b, (2,1))\n",
    "\n",
    "# solve\n",
    "sol = qp(P=P, q=q, G=G, h=h, A=A, b=b)"
   ]
  },
  {
   "cell_type": "code",
   "execution_count": 5,
   "id": "77afe172",
   "metadata": {},
   "outputs": [
    {
     "name": "stdout",
     "output_type": "stream",
     "text": [
      "[ 3.48e-01]\n",
      "[ 1.65e-08]\n",
      "[ 3.65e-01]\n",
      "[ 2.87e-01]\n",
      "[ 1.27e-06]\n",
      "\n"
     ]
    }
   ],
   "source": [
    "print(sol['x'])"
   ]
  },
  {
   "cell_type": "markdown",
   "id": "ceff19d9",
   "metadata": {},
   "source": [
    "**To minimize variance without allowing short sales**:\n",
    "\n",
    "Save: 34.8%\n",
    "\n",
    "Borrow: 0%\n",
    "\n",
    "Investment 1: 36.5%\n",
    "\n",
    "Investment 2: 28.7%\n",
    "\n",
    "Investment 3: 0%"
   ]
  },
  {
   "cell_type": "code",
   "execution_count": null,
   "id": "a151e2d7",
   "metadata": {},
   "outputs": [],
   "source": []
  }
 ],
 "metadata": {
  "kernelspec": {
   "display_name": "Python 3 (ipykernel)",
   "language": "python",
   "name": "python3"
  },
  "language_info": {
   "codemirror_mode": {
    "name": "ipython",
    "version": 3
   },
   "file_extension": ".py",
   "mimetype": "text/x-python",
   "name": "python",
   "nbconvert_exporter": "python",
   "pygments_lexer": "ipython3",
   "version": "3.9.12"
  }
 },
 "nbformat": 4,
 "nbformat_minor": 5
}
